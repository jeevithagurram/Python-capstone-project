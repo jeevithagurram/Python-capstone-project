{
 "cells": [
  {
   "cell_type": "code",
   "execution_count": 149,
   "id": "62d95b29-469a-4d7c-bee0-f1bf14b12e0a",
   "metadata": {},
   "outputs": [
    {
     "name": "stdout",
     "output_type": "stream",
     "text": [
      "      ID     Project       Cost    Status\n",
      "0   A001   Project 1  1002000.0  Finished\n",
      "1   A002   Project 2  2000000.0   Ongoing\n",
      "2   A003   Project 3  4500000.0  Finished\n",
      "3   A004   Project 4  5500000.0   Ongoing\n",
      "4   A005   Project 5        NaN  Finished\n",
      "5   A002   Project 6   680000.0    Failed\n",
      "6   A005   Project 7   400000.0  Finished\n",
      "7   A003   Project 8   350000.0    Failed\n",
      "8   A001   Project 9        NaN   Ongoing\n",
      "9   A003  Project 10   300000.0  Finished\n",
      "10  A001  Project 11  2000000.0    Failed\n",
      "11  A004  Project 12  1000000.0   Ongoing\n",
      "12  A004  Project 13  3000000.0  Finished\n",
      "13  A005  Project 14   200000.0  Finished\n"
     ]
    }
   ],
   "source": [
    "# Task 1: Create and Save 3 DataFrames as CSV\n",
    "import numpy as np\n",
    "import pandas as pd\n",
    "# -------------------------\n",
    "# Create Project DataFrame\n",
    "# -------------------------\n",
    "# Defining project data  as a dictionary\n",
    "project_data = {\n",
    "    'ID': ['A001', 'A002', 'A003', 'A004', 'A005', 'A002', 'A005', 'A003', 'A001', 'A003', 'A001', 'A004', 'A004', 'A005'],\n",
    "    'Project': ['Project 1', 'Project 2', 'Project 3', 'Project 4', 'Project 5', 'Project 6', 'Project 7', 'Project 8', 'Project 9', 'Project 10', 'Project 11', 'Project 12', 'Project 13', 'Project 14'],\n",
    "    'Cost': [1002000, 2000000, 4500000, 5500000, np.nan, 680000, 400000, 350000, np.nan, 300000, 2000000, 1000000, 3000000, 200000],\n",
    "    'Status': ['Finished', 'Ongoing', 'Finished', 'Ongoing', 'Finished', 'Failed', 'Finished', 'Failed', 'Ongoing', 'Finished', 'Failed', 'Ongoing', 'Finished', 'Finished']\n",
    "}\n",
    "\n",
    "# Creating the project DataFrame from dictionary\n",
    "project_df = pd.DataFrame(project_data)\n",
    "\n",
    "# Saving the project DataFrame as CSV file\n",
    "project_df.to_csv('project.csv', index=False)\n",
    "\n",
    "print(project_df)"
   ]
  },
  {
   "cell_type": "code",
   "execution_count": 151,
   "id": "6b491cb0-de4b-4485-a469-416d3a30cc3e",
   "metadata": {},
   "outputs": [
    {
     "name": "stdout",
     "output_type": "stream",
     "text": [
      "     ID             Name Gender     City  Age\n",
      "0  A001       John Alter      M    Paris   25\n",
      "1  A002  Alice Luxumberg      F   London   27\n",
      "2  A003    Tom Sabestine      M   Berlin   29\n",
      "3  A004       Nina Adgra      F  Newyork   31\n",
      "4  A005        Amy Johny      F   Madrid   30\n"
     ]
    }
   ],
   "source": [
    "# -------------------------\n",
    "# Create Employee DataFrame\n",
    "# -------------------------\n",
    "# Defining employee data as a dictionary\n",
    "employee_data = {\n",
    "    'ID': ['A001', 'A002', 'A003', 'A004', 'A005'],\n",
    "    'Name': ['John Alter', 'Alice Luxumberg', 'Tom Sabestine', 'Nina Adgra', 'Amy Johny'],\n",
    "    'Gender': ['M', 'F', 'M', 'F', 'F'],\n",
    "    'City': ['Paris', 'London', 'Berlin', 'Newyork', 'Madrid'],\n",
    "    'Age': [25, 27, 29, 31, 30]\n",
    "}\n",
    "\n",
    "# Creating the employee DataFrame from the dictionary\n",
    "employee_df = pd.DataFrame(employee_data)\n",
    "\n",
    "#Saving the employee DataFrame as CSV file\n",
    "employee_df.to_csv('employee.csv', index=False)\n",
    "\n",
    "print(employee_df)"
   ]
  },
  {
   "cell_type": "code",
   "execution_count": 153,
   "id": "15046ada-eafa-4779-917d-03644563ca9b",
   "metadata": {},
   "outputs": [
    {
     "name": "stdout",
     "output_type": "stream",
     "text": [
      "     ID  Designation Level\n",
      "0  A001                  2\n",
      "1  A002                  2\n",
      "2  A003                  3\n",
      "3  A004                  2\n",
      "4  A005                  3\n"
     ]
    }
   ],
   "source": [
    "# -----------------------------\n",
    "# Create Seniority Level DataFrame\n",
    "# -----------------------------\n",
    "# Defining seniority level data as dictionary\n",
    "seniority_data = {\n",
    "    'ID': ['A001', 'A002', 'A003', 'A004', 'A005'],\n",
    "    'Designation Level': [2, 2, 3, 2, 3]\n",
    "}\n",
    "\n",
    "# Creating the Seniority DataFrame\n",
    "seniority_df = pd.DataFrame(seniority_data)\n",
    "\n",
    "# Saving the Seniority DataFrame as CSV file\n",
    "seniority_df.to_csv('seniority.csv', index=False)\n",
    "\n",
    "print(seniority_df)"
   ]
  },
  {
   "cell_type": "code",
   "execution_count": 155,
   "id": "07ab4376-4165-4d75-8170-a78d5b3361b9",
   "metadata": {},
   "outputs": [
    {
     "name": "stdout",
     "output_type": "stream",
     "text": [
      "Updated Project DataFrame with filled cost values:\n",
      "       ID     Project          Cost    Status\n",
      "0   A001   Project 1  1.002000e+06  Finished\n",
      "1   A002   Project 2  2.000000e+06   Ongoing\n",
      "2   A003   Project 3  4.500000e+06  Finished\n",
      "3   A004   Project 4  5.500000e+06   Ongoing\n",
      "4   A005   Project 5  3.250500e+06  Finished\n",
      "5   A002   Project 6  6.800000e+05    Failed\n",
      "6   A005   Project 7  4.000000e+05  Finished\n",
      "7   A003   Project 8  3.500000e+05    Failed\n",
      "8   A001   Project 9  2.061714e+06   Ongoing\n",
      "9   A003  Project 10  3.000000e+05  Finished\n",
      "10  A001  Project 11  2.000000e+06    Failed\n",
      "11  A004  Project 12  1.000000e+06   Ongoing\n",
      "12  A004  Project 13  3.000000e+06  Finished\n",
      "13  A005  Project 14  2.000000e+05  Finished\n"
     ]
    }
   ],
   "source": [
    "# Task 2: Fill Missing Project Cost Values Using Running Average (with a for loop)\n",
    "\n",
    "import pandas as pd\n",
    "import numpy as np\n",
    "\n",
    "# Read the project data from the saved CSV\n",
    "project_df = pd.read_csv('project.csv')\n",
    "\n",
    "# Initialize variables to track the running total and count\n",
    "\n",
    "running_sum = 0\n",
    "count = 0\n",
    "\n",
    "# Using For Loop replace the missing values by running average\n",
    "for i in range(len(project_df)):\n",
    "    if pd.isna(project_df.loc[i,'Cost']):  # If the cost id missing\n",
    "        if count > 0:\n",
    "            running_avg = running_sum/count\n",
    "        else:\n",
    "            running_avg=0\n",
    "        # Fill the  missing cost with the running average\n",
    "        project_df.loc[i,'Cost'] = running_avg\n",
    "    else:\n",
    "        # If cost is present, update the running total and count\n",
    "        running_sum+=project_df.loc[i,'Cost']\n",
    "        count +=1\n",
    "\n",
    "# Saving the updated project DataFrame as CSV file\n",
    "project_df.to_csv('project.csv', index=False)\n",
    "\n",
    "# Show the cleaned Project DataFrame\n",
    "print(\"Updated Project DataFrame with filled cost values:\\n\", project_df)"
   ]
  },
  {
   "cell_type": "code",
   "execution_count": 157,
   "id": "e9af8994-bee2-4dc4-97d0-414d8161c8ac",
   "metadata": {},
   "outputs": [
    {
     "name": "stdout",
     "output_type": "stream",
     "text": [
      "Updated Employee DataFrame:\n",
      "      ID First Name  Last Name Gender     City  Age\n",
      "0  A001       John      Alter      M    Paris   25\n",
      "1  A002      Alice  Luxumberg      F   London   27\n",
      "2  A003        Tom  Sabestine      M   Berlin   29\n",
      "3  A004       Nina      Adgra      F  Newyork   31\n",
      "4  A005        Amy      Johny      F   Madrid   30\n"
     ]
    }
   ],
   "source": [
    "# Task 3: Split Name into First Name and Last Name\n",
    "import pandas as pd\n",
    "# Load the employee data\n",
    "employee_df = pd.read_csv('employee.csv')\n",
    "\n",
    "# Split the 'Name' column into 'First Name' and 'Last Name'\n",
    "employee_df[['First Name', 'Last Name']] = employee_df['Name'].str.split(' ', expand=True)\n",
    "\n",
    "# Drop the original 'Name' column\n",
    "employee_df = employee_df.drop('Name', axis=1)\n",
    "\n",
    "# Rearrange columns (optional, just for better readability)\n",
    "employee_df = employee_df[['ID', 'First Name', 'Last Name', 'Gender', 'City', 'Age']]\n",
    "\n",
    "#Saving the employee DataFrame as CSV file\n",
    "employee_df.to_csv('employee.csv', index=False)\n",
    "\n",
    "# Show the updated Employee DataFrame\n",
    "print(\"Updated Employee DataFrame:\\n\", employee_df)"
   ]
  },
  {
   "cell_type": "code",
   "execution_count": 159,
   "id": "8e6ea3ec-4abd-4e6d-a2ec-3e5032380230",
   "metadata": {},
   "outputs": [
    {
     "name": "stdout",
     "output_type": "stream",
     "text": [
      "Final Merged DataFrame:\n",
      "       ID First Name  Last Name Gender     City  Age  Designation Level  \\\n",
      "0   A001       John      Alter      M    Paris   25                  2   \n",
      "1   A001       John      Alter      M    Paris   25                  2   \n",
      "2   A001       John      Alter      M    Paris   25                  2   \n",
      "3   A002      Alice  Luxumberg      F   London   27                  2   \n",
      "4   A002      Alice  Luxumberg      F   London   27                  2   \n",
      "5   A003        Tom  Sabestine      M   Berlin   29                  3   \n",
      "6   A003        Tom  Sabestine      M   Berlin   29                  3   \n",
      "7   A003        Tom  Sabestine      M   Berlin   29                  3   \n",
      "8   A004       Nina      Adgra      F  Newyork   31                  2   \n",
      "9   A004       Nina      Adgra      F  Newyork   31                  2   \n",
      "10  A004       Nina      Adgra      F  Newyork   31                  2   \n",
      "11  A005        Amy      Johny      F   Madrid   30                  3   \n",
      "12  A005        Amy      Johny      F   Madrid   30                  3   \n",
      "13  A005        Amy      Johny      F   Madrid   30                  3   \n",
      "\n",
      "       Project          Cost    Status  \n",
      "0    Project 1  1.002000e+06  Finished  \n",
      "1    Project 9  2.061714e+06   Ongoing  \n",
      "2   Project 11  2.000000e+06    Failed  \n",
      "3    Project 2  2.000000e+06   Ongoing  \n",
      "4    Project 6  6.800000e+05    Failed  \n",
      "5    Project 3  4.500000e+06  Finished  \n",
      "6    Project 8  3.500000e+05    Failed  \n",
      "7   Project 10  3.000000e+05  Finished  \n",
      "8    Project 4  5.500000e+06   Ongoing  \n",
      "9   Project 12  1.000000e+06   Ongoing  \n",
      "10  Project 13  3.000000e+06  Finished  \n",
      "11   Project 5  3.250500e+06  Finished  \n",
      "12   Project 7  4.000000e+05  Finished  \n",
      "13  Project 14  2.000000e+05  Finished  \n"
     ]
    }
   ],
   "source": [
    "# Task 4: Merging in a Single Step\n",
    "import pandas as pd\n",
    "\n",
    "# Load all 3 CSV files\n",
    "employee_df = pd.read_csv(\"Employee.csv\")\n",
    "seniority_df = pd.read_csv(\"Seniority.csv\")\n",
    "project_df = pd.read_csv(\"Project.csv\")\n",
    "\n",
    "# Merge Employee dataframe,Seniority dataframe and Project dataframe on 'ID'\n",
    "final_df = pd.merge(pd.merge(employee_df,seniority_df,on='ID'),project_df, on='ID')\n",
    "\n",
    "# Save the final merged DataFrame to a new CSV\n",
    "final_df.to_csv(\"Final.csv\", index=False)\n",
    "\n",
    "#Display the final merged DataFrame\n",
    "print(\"Final Merged DataFrame:\\n\", final_df)"
   ]
  },
  {
   "cell_type": "code",
   "execution_count": 161,
   "id": "6a1c3d9c-2779-40aa-bd3b-f80cb7e40bd7",
   "metadata": {},
   "outputs": [
    {
     "name": "stdout",
     "output_type": "stream",
     "text": [
      "Final DataFrame with Bonus column:\n",
      "       ID First Name  Last Name Gender     City  Age  Designation Level  \\\n",
      "0   A001       John      Alter      M    Paris   25                  2   \n",
      "1   A001       John      Alter      M    Paris   25                  2   \n",
      "2   A001       John      Alter      M    Paris   25                  2   \n",
      "3   A002      Alice  Luxumberg      F   London   27                  2   \n",
      "4   A002      Alice  Luxumberg      F   London   27                  2   \n",
      "5   A003        Tom  Sabestine      M   Berlin   29                  3   \n",
      "6   A003        Tom  Sabestine      M   Berlin   29                  3   \n",
      "7   A003        Tom  Sabestine      M   Berlin   29                  3   \n",
      "8   A004       Nina      Adgra      F  Newyork   31                  2   \n",
      "9   A004       Nina      Adgra      F  Newyork   31                  2   \n",
      "10  A004       Nina      Adgra      F  Newyork   31                  2   \n",
      "11  A005        Amy      Johny      F   Madrid   30                  3   \n",
      "12  A005        Amy      Johny      F   Madrid   30                  3   \n",
      "13  A005        Amy      Johny      F   Madrid   30                  3   \n",
      "\n",
      "       Project          Cost    Status     Bonus  \n",
      "0    Project 1  1.002000e+06  Finished   50100.0  \n",
      "1    Project 9  2.061714e+06   Ongoing       0.0  \n",
      "2   Project 11  2.000000e+06    Failed       0.0  \n",
      "3    Project 2  2.000000e+06   Ongoing       0.0  \n",
      "4    Project 6  6.800000e+05    Failed       0.0  \n",
      "5    Project 3  4.500000e+06  Finished  225000.0  \n",
      "6    Project 8  3.500000e+05    Failed       0.0  \n",
      "7   Project 10  3.000000e+05  Finished   15000.0  \n",
      "8    Project 4  5.500000e+06   Ongoing       0.0  \n",
      "9   Project 12  1.000000e+06   Ongoing       0.0  \n",
      "10  Project 13  3.000000e+06  Finished  150000.0  \n",
      "11   Project 5  3.250500e+06  Finished  162525.0  \n",
      "12   Project 7  4.000000e+05  Finished   20000.0  \n",
      "13  Project 14  2.000000e+05  Finished   10000.0  \n"
     ]
    }
   ],
   "source": [
    "# Task 5:  Add a Bonus column to final_df\n",
    "import numpy as np\n",
    "import pandas as pd\n",
    "\n",
    "# Load the Final.csv file\n",
    "final_df = pd.read_csv(\"Final.csv\")\n",
    "\n",
    "# Add the Bonus column\n",
    "# If Status is 'Finished', Bonus = 5% of Cost. Otherwise, Bonus = 0\n",
    "final_df['Bonus'] = np.where(final_df['Status'] == 'Finished', final_df['Cost'] * 0.05, 0)\n",
    "\n",
    "# Save and Show the updated DataFrame\n",
    "final_df.to_csv(\"Final.csv\", index=False)\n",
    "\n",
    "print(\"Final DataFrame with Bonus column:\\n\", final_df)"
   ]
  },
  {
   "cell_type": "code",
   "execution_count": 163,
   "id": "3ea01442-7210-426a-a7fa-caee7bef1c33",
   "metadata": {},
   "outputs": [
    {
     "name": "stdout",
     "output_type": "stream",
     "text": [
      "      ID First Name  Last Name Gender     City  Age  Designation Level  \\\n",
      "0   A001       John      Alter      M    Paris   25                  2   \n",
      "1   A001       John      Alter      M    Paris   25                  2   \n",
      "2   A001       John      Alter      M    Paris   25                  3   \n",
      "3   A002      Alice  Luxumberg      F   London   27                  2   \n",
      "4   A002      Alice  Luxumberg      F   London   27                  3   \n",
      "5   A003        Tom  Sabestine      M   Berlin   29                  3   \n",
      "6   A003        Tom  Sabestine      M   Berlin   29                  4   \n",
      "7   A003        Tom  Sabestine      M   Berlin   29                  3   \n",
      "8   A004       Nina      Adgra      F  Newyork   31                  2   \n",
      "9   A004       Nina      Adgra      F  Newyork   31                  2   \n",
      "10  A004       Nina      Adgra      F  Newyork   31                  2   \n",
      "11  A005        Amy      Johny      F   Madrid   30                  3   \n",
      "12  A005        Amy      Johny      F   Madrid   30                  3   \n",
      "13  A005        Amy      Johny      F   Madrid   30                  3   \n",
      "\n",
      "       Project          Cost    Status     Bonus  \n",
      "0    Project 1  1.002000e+06  Finished   50100.0  \n",
      "1    Project 9  2.061714e+06   Ongoing       0.0  \n",
      "2   Project 11  2.000000e+06    Failed       0.0  \n",
      "3    Project 2  2.000000e+06   Ongoing       0.0  \n",
      "4    Project 6  6.800000e+05    Failed       0.0  \n",
      "5    Project 3  4.500000e+06  Finished  225000.0  \n",
      "6    Project 8  3.500000e+05    Failed       0.0  \n",
      "7   Project 10  3.000000e+05  Finished   15000.0  \n",
      "8    Project 4  5.500000e+06   Ongoing       0.0  \n",
      "9   Project 12  1.000000e+06   Ongoing       0.0  \n",
      "10  Project 13  3.000000e+06  Finished  150000.0  \n",
      "11   Project 5  3.250500e+06  Finished  162525.0  \n",
      "12   Project 7  4.000000e+05  Finished   20000.0  \n",
      "13  Project 14  2.000000e+05  Finished   10000.0  \n"
     ]
    }
   ],
   "source": [
    "# Task 6: Demote the designation level by 1, whose projects have status “fail”\n",
    "import numpy as np\n",
    "import pandas as pd\n",
    "\n",
    "# Load the Final.csv file\n",
    "final_df = pd.read_csv(\"Final.csv\")\n",
    "\n",
    "# Demote the designation level by 1 if Project Status is \"Fail\"\n",
    "final_df.loc[final_df['Status'] == 'Failed', 'Designation Level'] += 1\n",
    "\n",
    "# Remove employees with Designation Level above 4\n",
    "final_df = final_df[final_df['Designation Level'] <= 4]\n",
    "\n",
    "# Save the updated DataFrame\n",
    "final_df.to_csv(\"Final.csv\", index=False)\n",
    "\n",
    "print(final_df)"
   ]
  },
  {
   "cell_type": "code",
   "execution_count": 165,
   "id": "d1a2fa79-202a-489d-920b-85921cd07438",
   "metadata": {},
   "outputs": [
    {
     "name": "stdout",
     "output_type": "stream",
     "text": [
      "      ID  First Name  Last Name     City  Age  Designation Level     Project  \\\n",
      "0   A001    Mr. John      Alter    Paris   25                  2   Project 1   \n",
      "1   A001    Mr. John      Alter    Paris   25                  2   Project 9   \n",
      "2   A001    Mr. John      Alter    Paris   25                  3  Project 11   \n",
      "3   A002  Mrs. Alice  Luxumberg   London   27                  2   Project 2   \n",
      "4   A002  Mrs. Alice  Luxumberg   London   27                  3   Project 6   \n",
      "5   A003     Mr. Tom  Sabestine   Berlin   29                  3   Project 3   \n",
      "6   A003     Mr. Tom  Sabestine   Berlin   29                  4   Project 8   \n",
      "7   A003     Mr. Tom  Sabestine   Berlin   29                  3  Project 10   \n",
      "8   A004   Mrs. Nina      Adgra  Newyork   31                  2   Project 4   \n",
      "9   A004   Mrs. Nina      Adgra  Newyork   31                  2  Project 12   \n",
      "10  A004   Mrs. Nina      Adgra  Newyork   31                  2  Project 13   \n",
      "11  A005    Mrs. Amy      Johny   Madrid   30                  3   Project 5   \n",
      "12  A005    Mrs. Amy      Johny   Madrid   30                  3   Project 7   \n",
      "13  A005    Mrs. Amy      Johny   Madrid   30                  3  Project 14   \n",
      "\n",
      "            Cost    Status     Bonus  \n",
      "0   1.002000e+06  Finished   50100.0  \n",
      "1   2.061714e+06   Ongoing       0.0  \n",
      "2   2.000000e+06    Failed       0.0  \n",
      "3   2.000000e+06   Ongoing       0.0  \n",
      "4   6.800000e+05    Failed       0.0  \n",
      "5   4.500000e+06  Finished  225000.0  \n",
      "6   3.500000e+05    Failed       0.0  \n",
      "7   3.000000e+05  Finished   15000.0  \n",
      "8   5.500000e+06   Ongoing       0.0  \n",
      "9   1.000000e+06   Ongoing       0.0  \n",
      "10  3.000000e+06  Finished  150000.0  \n",
      "11  3.250500e+06  Finished  162525.0  \n",
      "12  4.000000e+05  Finished   20000.0  \n",
      "13  2.000000e+05  Finished   10000.0  \n"
     ]
    }
   ],
   "source": [
    "# Task 7: Add Mr./Mrs. to First Name and drop gender\n",
    "import numpy as np\n",
    "import pandas as pd\n",
    "\n",
    "# Load the Final.csv file\n",
    "final_df = pd.read_csv(\"Final.csv\")\n",
    "\n",
    "# Apply title based on gender\n",
    "final_df['First Name'] = final_df.apply(lambda row: 'Mr. ' + row['First Name'] if row['Gender'] == 'M' else 'Mrs. ' + row['First Name'], axis=1)\n",
    "\n",
    "# Drop the Gender column\n",
    "final_df.drop(columns=['Gender'], inplace=True)\n",
    "\n",
    "# Save the updated dataframe\n",
    "final_df.to_csv('Final.csv', index=False)\n",
    "\n",
    "# Display Updated dataframe\n",
    "print(final_df)"
   ]
  },
  {
   "cell_type": "code",
   "execution_count": 167,
   "id": "e8f7da08-dc72-42b1-840f-c34999ca312d",
   "metadata": {},
   "outputs": [
    {
     "name": "stdout",
     "output_type": "stream",
     "text": [
      "\n",
      "After Promotion:\n",
      "       ID  First Name  Last Name     City  Age  Designation Level     Project  \\\n",
      "0   A001    Mr. John      Alter    Paris   25                  2   Project 1   \n",
      "1   A001    Mr. John      Alter    Paris   25                  2   Project 9   \n",
      "2   A001    Mr. John      Alter    Paris   25                  3  Project 11   \n",
      "3   A002  Mrs. Alice  Luxumberg   London   27                  2   Project 2   \n",
      "4   A002  Mrs. Alice  Luxumberg   London   27                  3   Project 6   \n",
      "5   A003     Mr. Tom  Sabestine   Berlin   29                  3   Project 3   \n",
      "6   A003     Mr. Tom  Sabestine   Berlin   29                  4   Project 8   \n",
      "7   A003     Mr. Tom  Sabestine   Berlin   29                  3  Project 10   \n",
      "8   A004   Mrs. Nina      Adgra  Newyork   31                  1   Project 4   \n",
      "9   A004   Mrs. Nina      Adgra  Newyork   31                  1  Project 12   \n",
      "10  A004   Mrs. Nina      Adgra  Newyork   31                  1  Project 13   \n",
      "11  A005    Mrs. Amy      Johny   Madrid   30                  2   Project 5   \n",
      "12  A005    Mrs. Amy      Johny   Madrid   30                  2   Project 7   \n",
      "13  A005    Mrs. Amy      Johny   Madrid   30                  2  Project 14   \n",
      "\n",
      "            Cost    Status     Bonus  \n",
      "0   1.002000e+06  Finished   50100.0  \n",
      "1   2.061714e+06   Ongoing       0.0  \n",
      "2   2.000000e+06    Failed       0.0  \n",
      "3   2.000000e+06   Ongoing       0.0  \n",
      "4   6.800000e+05    Failed       0.0  \n",
      "5   4.500000e+06  Finished  225000.0  \n",
      "6   3.500000e+05    Failed       0.0  \n",
      "7   3.000000e+05  Finished   15000.0  \n",
      "8   5.500000e+06   Ongoing       0.0  \n",
      "9   1.000000e+06   Ongoing       0.0  \n",
      "10  3.000000e+06  Finished  150000.0  \n",
      "11  3.250500e+06  Finished  162525.0  \n",
      "12  4.000000e+05  Finished   20000.0  \n",
      "13  2.000000e+05  Finished   10000.0  \n"
     ]
    }
   ],
   "source": [
    "# Task 8:Promote Employees Over 29\n",
    "import numpy as np\n",
    "import pandas as pd\n",
    "\n",
    "# Load the Final.csv file\n",
    "final_df = pd.read_csv(\"Final.csv\")\n",
    "\n",
    "# Promote Employess if age>29\n",
    "final_df.loc[final_df['Age'] > 29, 'Designation Level'] -= 1\n",
    "\n",
    "# Save the updated DataFrame\n",
    "final_df.to_csv('Final.csv', index=False)\n",
    "\n",
    "# Display records after promotion\n",
    "print(\"\\nAfter Promotion:\\n\", final_df)"
   ]
  },
  {
   "cell_type": "code",
   "execution_count": 169,
   "id": "6286c184-afeb-4ca1-b508-1e33d3f67c56",
   "metadata": {},
   "outputs": [
    {
     "name": "stdout",
     "output_type": "stream",
     "text": [
      "Total Project Cost per Employee:\n",
      "      ID  First Name    Total Cost\n",
      "0  A001    Mr. John  5.063714e+06\n",
      "1  A002  Mrs. Alice  2.680000e+06\n",
      "2  A003     Mr. Tom  5.150000e+06\n",
      "3  A004   Mrs. Nina  9.500000e+06\n",
      "4  A005    Mrs. Amy  3.850500e+06\n"
     ]
    }
   ],
   "source": [
    "# Task 9:Total Project Cost per Employee\n",
    "import numpy as np\n",
    "import pandas as pd\n",
    "\n",
    "# Load the Final.csv file\n",
    "final_df = pd.read_csv(\"Final.csv\")\n",
    "\n",
    "# Group by employee ID and First Name, and sum the Project Cost\n",
    "total_cost_df = final_df.groupby(['ID', 'First Name'])['Cost'].sum().reset_index()\n",
    "\n",
    "# Rename the Cost column to 'Total Cost'\n",
    "total_cost_df.rename(columns={'Cost': 'Total Cost'}, inplace=True)\n",
    "\n",
    "# Save and show the result to a new CSV file\n",
    "total_cost_df.to_csv('TotalProjCost.csv', index=False)\n",
    "\n",
    "print(\"Total Project Cost per Employee:\\n\", total_cost_df)"
   ]
  },
  {
   "cell_type": "code",
   "execution_count": 147,
   "id": "0d4d5dc3-8575-46e1-ac6b-bec4f6f2e11c",
   "metadata": {},
   "outputs": [
    {
     "name": "stdout",
     "output_type": "stream",
     "text": [
      "Employees from cities containing the letter 'o':\n",
      "       ID  First Name  Last Name     City  Age  Designation Level     Project  \\\n",
      "3   A002  Mrs. Alice  Luxumberg   London   27                  2   Project 2   \n",
      "4   A002  Mrs. Alice  Luxumberg   London   27                  3   Project 6   \n",
      "8   A004   Mrs. Nina      Adgra  Newyork   31                  1   Project 4   \n",
      "9   A004   Mrs. Nina      Adgra  Newyork   31                  1  Project 12   \n",
      "10  A004   Mrs. Nina      Adgra  Newyork   31                  1  Project 13   \n",
      "\n",
      "         Cost    Status     Bonus  \n",
      "3   2000000.0   Ongoing       0.0  \n",
      "4    680000.0    Failed       0.0  \n",
      "8   5500000.0   Ongoing       0.0  \n",
      "9   1000000.0   Ongoing       0.0  \n",
      "10  3000000.0  Finished  150000.0  \n"
     ]
    }
   ],
   "source": [
    "#Task 10: Filter Employees Where City Contains the Letter 'o'\n",
    "import pandas as pd\n",
    "\n",
    "# Load the final dataset\n",
    "final_df = pd.read_csv(\"Final.csv\")\n",
    "\n",
    "# Filter rows where 'City' contains the letter 'o' (case-insensitive)\n",
    "filtered_df = final_df[final_df['City'].str.contains('o', case=False, na=False)]\n",
    "\n",
    "# Display the filtered result\n",
    "print(\"Employees from cities containing the letter 'o':\\n\", filtered_df)"
   ]
  },
  {
   "cell_type": "code",
   "execution_count": null,
   "id": "b39dd3a3-548b-41f0-8d7a-deb3ddab1915",
   "metadata": {},
   "outputs": [],
   "source": [
    "\n",
    "\n"
   ]
  }
 ],
 "metadata": {
  "kernelspec": {
   "display_name": "Python [conda env:base] *",
   "language": "python",
   "name": "conda-base-py"
  },
  "language_info": {
   "codemirror_mode": {
    "name": "ipython",
    "version": 3
   },
   "file_extension": ".py",
   "mimetype": "text/x-python",
   "name": "python",
   "nbconvert_exporter": "python",
   "pygments_lexer": "ipython3",
   "version": "3.12.7"
  }
 },
 "nbformat": 4,
 "nbformat_minor": 5
}
